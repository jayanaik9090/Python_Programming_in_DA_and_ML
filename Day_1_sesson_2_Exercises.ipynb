{
  "nbformat": 4,
  "nbformat_minor": 0,
  "metadata": {
    "colab": {
      "name": "Day 1 sesson 2 Exercises.ipynb",
      "provenance": []
    },
    "kernelspec": {
      "name": "python3",
      "display_name": "Python 3"
    }
  },
  "cells": [
    {
      "cell_type": "markdown",
      "metadata": {
        "id": "ka8L1NCu1iCs",
        "colab_type": "text"
      },
      "source": [
        "#1 Write a program to print the triangle \n",
        "#i/p  4\n",
        "\n",
        "###1\n",
        "###2    3\n",
        "###3    4   5\n",
        "###4    5   6   7\n"
      ]
    },
    {
      "cell_type": "code",
      "metadata": {
        "id": "nJZZUK6A177C",
        "colab_type": "code",
        "colab": {
          "base_uri": "https://localhost:8080/",
          "height": 153
        },
        "outputId": "7a7d7232-d1a3-419a-b812-c4b306627b7c"
      },
      "source": [
        "n = int(input(\"enter n:\"))\n",
        "for i in range(n):\n",
        "  for j in range(i+1):\n",
        "    print(i+j+1,end=\" \")\n",
        "  print(\" \")"
      ],
      "execution_count": null,
      "outputs": [
        {
          "output_type": "stream",
          "text": [
            "enter n:7\n",
            "1  \n",
            "2 3  \n",
            "3 4 5  \n",
            "4 5 6 7  \n",
            "5 6 7 8 9  \n",
            "6 7 8 9 10 11  \n",
            "7 8 9 10 11 12 13  \n"
          ],
          "name": "stdout"
        }
      ]
    },
    {
      "cell_type": "markdown",
      "metadata": {
        "id": "HtI5Pi7U18xx",
        "colab_type": "text"
      },
      "source": [
        "###2\n",
        " Enter number 4\n",
        "###*\n",
        "###* *\n",
        "###* * *\n",
        "###* * * *\n",
        "\n"
      ]
    },
    {
      "cell_type": "code",
      "metadata": {
        "id": "u6073PRG2Gvj",
        "colab_type": "code",
        "colab": {
          "base_uri": "https://localhost:8080/",
          "height": 153
        },
        "outputId": "4a21d0da-42c7-4335-8725-99337f032bc2"
      },
      "source": [
        "n = int(input(\"enter n:\"))\n",
        "for i in range(n):\n",
        "  for j in range(i+1):\n",
        "    print(\"*\",end=\" \")\n",
        "  print(\" \")"
      ],
      "execution_count": null,
      "outputs": [
        {
          "output_type": "stream",
          "text": [
            "enter n:7\n",
            "*  \n",
            "* *  \n",
            "* * *  \n",
            "* * * *  \n",
            "* * * * *  \n",
            "* * * * * *  \n",
            "* * * * * * *  \n"
          ],
          "name": "stdout"
        }
      ]
    },
    {
      "cell_type": "markdown",
      "metadata": {
        "id": "BxRKOnnQ2JzC",
        "colab_type": "text"
      },
      "source": [
        "##3 Enter number 5\n",
        "\n",
        "###5\n",
        "###4 5\n",
        "###3 4 5\n",
        "###2 3 4 5\n",
        "###1 2 3 4 5\n"
      ]
    },
    {
      "cell_type": "code",
      "metadata": {
        "id": "oMwkejgM2J-k",
        "colab_type": "code",
        "colab": {
          "base_uri": "https://localhost:8080/",
          "height": 119
        },
        "outputId": "f484038e-0d09-4a8e-9908-2e19e900f68b"
      },
      "source": [
        "n = int(input(\"enter n:\"))\n",
        "for i in range(n):\n",
        "  for j in range(i+1):\n",
        "    print(n-i+j,end=\" \")\n",
        "  print(\" \")"
      ],
      "execution_count": null,
      "outputs": [
        {
          "output_type": "stream",
          "text": [
            "enter n:5\n",
            "5  \n",
            "4 5  \n",
            "3 4 5  \n",
            "2 3 4 5  \n",
            "1 2 3 4 5  \n"
          ],
          "name": "stdout"
        }
      ]
    },
    {
      "cell_type": "markdown",
      "metadata": {
        "id": "g4gP7AH72Kaq",
        "colab_type": "text"
      },
      "source": [
        "###4  Enter number 5\n",
        "\n",
        "###5 4 3 2 1\n",
        "###4 3 2 1\n",
        "###3 2 1\n",
        "###2 1\n",
        "###1\n"
      ]
    },
    {
      "cell_type": "code",
      "metadata": {
        "id": "J2BPFnmL2KjR",
        "colab_type": "code",
        "colab": {
          "base_uri": "https://localhost:8080/",
          "height": 119
        },
        "outputId": "fc18f9d5-65a9-4a94-878b-ad70adfb6077"
      },
      "source": [
        "n = int(input(\"enter n:\"))\n",
        "for i in range(n):\n",
        "  for j in range(n-i):\n",
        "    print(n-i-j,end=\" \")\n",
        "  print(\" \")"
      ],
      "execution_count": null,
      "outputs": [
        {
          "output_type": "stream",
          "text": [
            "enter n:5\n",
            "5 4 3 2 1  \n",
            "4 3 2 1  \n",
            "3 2 1  \n",
            "2 1  \n",
            "1  \n"
          ],
          "name": "stdout"
        }
      ]
    },
    {
      "cell_type": "markdown",
      "metadata": {
        "id": "-kxXo2se2Ks8",
        "colab_type": "text"
      },
      "source": [
        "###5 Enter number 4\n",
        "\n",
        "###1 2 3 4\n",
        "###2 3 4\n",
        "###3 4\n",
        "###4\n",
        "###3 4\n",
        "###2 3 4\n",
        "###1 2 3 4\n"
      ]
    },
    {
      "cell_type": "code",
      "metadata": {
        "id": "DFGkUqfF2K1p",
        "colab_type": "code",
        "colab": {
          "base_uri": "https://localhost:8080/",
          "height": 289
        },
        "outputId": "b34d7f34-a40f-497b-8642-121392e6702b"
      },
      "source": [
        "n = int(input(\"enter n:\"))\n",
        "for i in range(n):\n",
        "  for j in range(1,n-i+1):\n",
        "    if(i!=n-1):\n",
        "      print(j+i,end=\" \")\n",
        "  if i!=n-1:\n",
        "    print(\" \")\n",
        "for i in range(n):\n",
        "  for j in range(i+1):\n",
        "    print(n-i+j,end=\" \")\n",
        "  print(\" \")"
      ],
      "execution_count": null,
      "outputs": [
        {
          "output_type": "stream",
          "text": [
            "enter n:8\n",
            "1 2 3 4 5 6 7 8  \n",
            "2 3 4 5 6 7 8  \n",
            "3 4 5 6 7 8  \n",
            "4 5 6 7 8  \n",
            "5 6 7 8  \n",
            "6 7 8  \n",
            "7 8  \n",
            "8  \n",
            "7 8  \n",
            "6 7 8  \n",
            "5 6 7 8  \n",
            "4 5 6 7 8  \n",
            "3 4 5 6 7 8  \n",
            "2 3 4 5 6 7 8  \n",
            "1 2 3 4 5 6 7 8  \n"
          ],
          "name": "stdout"
        }
      ]
    },
    {
      "cell_type": "markdown",
      "metadata": {
        "id": "hMkBg7mo2Yxp",
        "colab_type": "text"
      },
      "source": [
        "#6 Find the length of a string without using len functions\n",
        "\n"
      ]
    },
    {
      "cell_type": "code",
      "metadata": {
        "id": "B73MEJPx2ZAa",
        "colab_type": "code",
        "colab": {
          "base_uri": "https://localhost:8080/",
          "height": 51
        },
        "outputId": "dd28816a-ddc8-43d2-dba1-84662af72981"
      },
      "source": [
        "x=input(\"enter the string:\")\n",
        "c=0\n",
        "for i in x:\n",
        "  c=c+1\n",
        "print(\"the length of {0} is {1}\".format(x,c))"
      ],
      "execution_count": null,
      "outputs": [
        {
          "output_type": "stream",
          "text": [
            "enter the string:jagath haren\n",
            "the length of jagath haren is 12\n"
          ],
          "name": "stdout"
        }
      ]
    },
    {
      "cell_type": "markdown",
      "metadata": {
        "id": "qGWkyxFP2ZUh",
        "colab_type": "text"
      },
      "source": [
        "#7 Find the no of words and characters in a string\n",
        "\n"
      ]
    },
    {
      "cell_type": "code",
      "metadata": {
        "id": "XEsYujKN2ZdJ",
        "colab_type": "code",
        "colab": {
          "base_uri": "https://localhost:8080/",
          "height": 68
        },
        "outputId": "6d81da15-c1dc-4704-adfc-60256fecd5ea"
      },
      "source": [
        "s=input(\"enter the string:\")\n",
        "words=len(s.split())\n",
        "char=len(s)\n",
        "print(\"words: {0}\\ncharactrs: {1}\".format(words,char))"
      ],
      "execution_count": null,
      "outputs": [
        {
          "output_type": "stream",
          "text": [
            "enter the string:good night everyone sweet dreams. bye\n",
            "words: 6\n",
            "charactrs: 37\n"
          ],
          "name": "stdout"
        }
      ]
    },
    {
      "cell_type": "markdown",
      "metadata": {
        "id": "aUV3fYli2Zlp",
        "colab_type": "text"
      },
      "source": [
        "#8 Find the no of occurrences of a word in a string\n",
        "\n"
      ]
    },
    {
      "cell_type": "code",
      "metadata": {
        "id": "wh4GtRzx2Zth",
        "colab_type": "code",
        "colab": {
          "base_uri": "https://localhost:8080/",
          "height": 68
        },
        "outputId": "cefc7226-fe5a-417d-c943-927634592e7f"
      },
      "source": [
        "s=input(\"enter the string:\")\n",
        "t=input(\"enter  the word:\")\n",
        "x= s.split(\" \")\n",
        "c = 0\n",
        "for i in x:\n",
        "  if t==i:\n",
        "    c+=1\n",
        "print(\"the word {0} occurs {1} times\".format(t,c))"
      ],
      "execution_count": null,
      "outputs": [
        {
          "output_type": "stream",
          "text": [
            "enter the string:hih hi hk hi\n",
            "enter  the word:hi\n",
            "the word hi occurs 2 times\n"
          ],
          "name": "stdout"
        }
      ]
    }
  ]
}