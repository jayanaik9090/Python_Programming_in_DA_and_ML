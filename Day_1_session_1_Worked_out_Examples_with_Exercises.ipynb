{
  "nbformat": 4,
  "nbformat_minor": 0,
  "metadata": {
    "colab": {
      "name": "Day 1 session 1 Worked out Examples with Exercises.ipynb",
      "provenance": [],
      "collapsed_sections": [],
      "authorship_tag": "ABX9TyNeytXKIjldt2a1SJ8I09Cx",
      "include_colab_link": true
    },
    "kernelspec": {
      "name": "python3",
      "display_name": "Python 3"
    }
  },
  "cells": [
    {
      "cell_type": "markdown",
      "metadata": {
        "id": "view-in-github",
        "colab_type": "text"
      },
      "source": [
        "<a href=\"https://colab.research.google.com/github/jayanaik9090/Python_Programming_in_DA_and_ML/blob/master/Day_1_session_1_Worked_out_Examples_with_Exercises.ipynb\" target=\"_parent\"><img src=\"https://colab.research.google.com/assets/colab-badge.svg\" alt=\"Open In Colab\"/></a>"
      ]
    },
    {
      "cell_type": "markdown",
      "metadata": {
        "id": "DtWk75va1rcJ",
        "colab_type": "text"
      },
      "source": [
        "1)Python Program to Add Two Numbers getting through key board"
      ]
    },
    {
      "cell_type": "code",
      "metadata": {
        "id": "1ePUpjeToqfn",
        "colab_type": "code",
        "colab": {
          "base_uri": "https://localhost:8080/",
          "height": 67
        },
        "outputId": "3b04665c-4d35-43f6-c959-a8975e5aae83"
      },
      "source": [
        "# sum of two nos\n",
        "num1 = int(input(\"Enter first no\"))\n",
        "num2 = int(input(\"Enter second no\"))\n",
        "\n",
        "# Adding the two numbers\n",
        "sum = num1 + num2\n",
        "\n",
        "# Display the sum\n",
        "print('The sum of {0} and {1} is {2}'.format(num1, num2, sum))\n"
      ],
      "execution_count": null,
      "outputs": [
        {
          "output_type": "stream",
          "text": [
            "Enter first no123\n",
            "Enter second no231\n",
            "The sum of 123 and 231 is 354\n"
          ],
          "name": "stdout"
        }
      ]
    },
    {
      "cell_type": "markdown",
      "metadata": {
        "id": "GsWciFGE1aeg",
        "colab_type": "text"
      },
      "source": [
        "2)Python program to check if the input year is a leap year or not\n"
      ]
    },
    {
      "cell_type": "code",
      "metadata": {
        "id": "4_319aSXoxjC",
        "colab_type": "code",
        "colab": {
          "base_uri": "https://localhost:8080/",
          "height": 50
        },
        "outputId": "79e80066-5292-4fbc-eed4-78935c3a2914"
      },
      "source": [
        "# To get year (integer input) from the user\n",
        "year = int(input(\"Enter a year: \"))\n",
        "\n",
        "if ((year % 4) == 0 and (year % 100)  != 0) or ((year % 400) == 0):\n",
        "           print(\"{0} is a leap year\".format(year))\n",
        "else:\n",
        "           print(\"{0} is not a leap year\".format(year))\n"
      ],
      "execution_count": null,
      "outputs": [
        {
          "output_type": "stream",
          "text": [
            "Enter a year: 2020\n",
            "2020 is a leap year\n"
          ],
          "name": "stdout"
        }
      ]
    },
    {
      "cell_type": "markdown",
      "metadata": {
        "id": "_ZUPhLS01zLU",
        "colab_type": "text"
      },
      "source": [
        "3)Python Program to Generate a Random Number "
      ]
    },
    {
      "cell_type": "code",
      "metadata": {
        "id": "ExISc-1QpBF2",
        "colab_type": "code",
        "colab": {
          "base_uri": "https://localhost:8080/",
          "height": 34
        },
        "outputId": "0048c567-0831-422f-8c12-7fe85858674b"
      },
      "source": [
        "# Program to generate a random number between 0 and 9\n",
        "# import the random module\n",
        "import random\n",
        "print(random.randint(0,9))\n",
        "  \n"
      ],
      "execution_count": null,
      "outputs": [
        {
          "output_type": "stream",
          "text": [
            "0\n"
          ],
          "name": "stdout"
        }
      ]
    },
    {
      "cell_type": "markdown",
      "metadata": {
        "id": "Kjqy3dHk15Jd",
        "colab_type": "text"
      },
      "source": [
        "4)Python Program to Convert Kilometers to Miles \n"
      ]
    },
    {
      "cell_type": "code",
      "metadata": {
        "id": "aCuONSXCpoK1",
        "colab_type": "code",
        "colab": {
          "base_uri": "https://localhost:8080/",
          "height": 50
        },
        "outputId": "38c9b266-f4ca-4824-9d97-b721c2bb2895"
      },
      "source": [
        "# To take kilometers from the user, uncomment the code below\n",
        "kilometers = int(input(\"Enter value in kilometers\"))\n",
        "\n",
        "# conversion factor\n",
        "conv_fac = 0.621371\n",
        "\n",
        "# calculate miles\n",
        "miles = kilometers * conv_fac\n",
        "print('%0.3f kilometers is equal to %0.3f miles' %(kilometers,miles))\n"
      ],
      "execution_count": null,
      "outputs": [
        {
          "output_type": "stream",
          "text": [
            "Enter value in kilometers14\n",
            "14.000 kilometers is equal to 8.699 miles\n"
          ],
          "name": "stdout"
        }
      ]
    },
    {
      "cell_type": "markdown",
      "metadata": {
        "id": "frWGnJ-a3udy",
        "colab_type": "text"
      },
      "source": [
        "5)Python Program to Solve Quadratic Equation "
      ]
    },
    {
      "cell_type": "code",
      "metadata": {
        "id": "JSVNtYTxpsVV",
        "colab_type": "code",
        "colab": {
          "base_uri": "https://localhost:8080/",
          "height": 84
        },
        "outputId": "4fa2fdc1-438d-4413-9c5e-47b9b509bf43"
      },
      "source": [
        "# Solve the quadratic equation ax**2 + bx + c = 0\n",
        "# importing  complex math module\n",
        "import cmath\n",
        "\n",
        " # To take coefficient input from the users\n",
        "a = float(input('Enter a: '))\n",
        "b = float(input('Enter b: '))\n",
        "c = float(input('Enter c: '))\n",
        "\n",
        "# calculate the discriminant\n",
        "d = (b**2) - (4*a*c)\n",
        "\n",
        "# find two solutions\n",
        "sol1 = (-b-cmath.sqrt(d))/(2*a)\n",
        "sol2 = (-b+cmath.sqrt(d))/(2*a)\n",
        "\n",
        "print('The solution are {0} and {1}'.format(sol1,sol2))\n",
        "\n"
      ],
      "execution_count": null,
      "outputs": [
        {
          "output_type": "stream",
          "text": [
            "Enter a: 14\n",
            "Enter b: 2\n",
            "Enter c: 2\n",
            "The solution are (-0.07142857142857142-0.37115374447904514j) and (-0.07142857142857142+0.37115374447904514j)\n"
          ],
          "name": "stdout"
        }
      ]
    },
    {
      "cell_type": "markdown",
      "metadata": {
        "id": "XcN3hNVh3z0U",
        "colab_type": "text"
      },
      "source": [
        "6)Python Program to find prime or not using function "
      ]
    },
    {
      "cell_type": "code",
      "metadata": {
        "id": "oAlhkpmopyB1",
        "colab_type": "code",
        "colab": {
          "base_uri": "https://localhost:8080/",
          "height": 50
        },
        "outputId": "3bf0eb5c-bd9b-4fc2-c0a4-ed9c42d7aaed"
      },
      "source": [
        "def test_prime(n):\n",
        "    if (n==1):\n",
        "        return False\n",
        "    elif (n==2):\n",
        "        return True;\n",
        "    else:\n",
        "        for x in range(2,n):\n",
        "            if(n % x==0):\n",
        "                return False\n",
        "        return True\n",
        "no=int(input(\"Enter the number\"))\n",
        "if (test_prime(no)) is True :\n",
        "    print(\" {0} is a prime no\".format(no))\n",
        "else:\n",
        "     print(\" {0} is not a prime no\".format(no))\n"
      ],
      "execution_count": null,
      "outputs": [
        {
          "output_type": "stream",
          "text": [
            "Enter the number24\n",
            " 24 is not a prime no\n"
          ],
          "name": "stdout"
        }
      ]
    },
    {
      "cell_type": "markdown",
      "metadata": {
        "id": "uXhud_ZD36Lb",
        "colab_type": "text"
      },
      "source": [
        "\"\"\"Calculator program\"\"\""
      ]
    },
    {
      "cell_type": "code",
      "metadata": {
        "id": "dfFrWXMlp7KN",
        "colab_type": "code",
        "colab": {
          "base_uri": "https://localhost:8080/",
          "height": 991
        },
        "outputId": "2b13fe11-2c5f-4292-9985-6671037d7703"
      },
      "source": [
        "loop = 1 # 1 means loop; anything else means don't loop.\n",
        "choice = 0 # This variable holds the user's choice in the menu\n",
        "\n",
        "def add(a,b):\n",
        "    return a+b \n",
        "def sub(a,b):\n",
        "    return a-b\n",
        "def mul(a,b):\n",
        "    return a*b\n",
        "def div(a,b):\n",
        "    return a/b\n",
        "\n",
        "while loop == 1:\n",
        "    # Print what options you have\n",
        "    print (\"Welcome to calculator.py\")\n",
        "    print (\"your options are:\")\n",
        "    print (\" \")\n",
        "    print(\"1) Addition\")\n",
        "    print(\"2) Subtraction\")\n",
        "    print(\"3) Multiplication\")\n",
        "    print(\"4) Division\")\n",
        "    print(\"5) Quit calculator.py\")\n",
        "    print(\" \")\n",
        "    try:\n",
        "        choice = int(input(\"Choose your option: \"))\n",
        "    except:\n",
        "        print('please enter a valid number for option')\n",
        "    print(\" \")\n",
        "    print(\" \")\n",
        "    if choice == 1:\n",
        "      x = int(input(\"Enter 1st no: \"))\n",
        "      y = int(input(\"Enter 2nd no: \"))\n",
        "      print(\"The answer is \",add(x,y))\n",
        "    elif choice == 2:\n",
        "      x = int(input(\"Enter 1st no: \"))\n",
        "      y = int(input(\"Enter 2nd no: \"))\n",
        "      print(\"answer is \",sub(x,y))\n",
        "  \n",
        "    elif choice == 3:\n",
        "      x = int(input(\"Enter 1st no: \"))\n",
        "      y = int(input(\"Enter 2nd no: \"))\n",
        "      print(\"answer is \",mul(x,y))\n",
        "\n",
        "    elif choice == 4:\n",
        "      x = int(input(\"Enter 1st no: \"))\n",
        "      y = int(input(\"Enter 2nd no: \"))\n",
        "      print(\"answer is \",div(x,y))\n",
        "        \n",
        "    elif choice == 5:\n",
        "      loop = 0\n",
        "     \n",
        "    else:\n",
        "      print(\"please choice a valid option from 1 to 5\")\n",
        "      choice=0\n",
        "print (\"Thank-you for using calculator.py!\")\n"
      ],
      "execution_count": null,
      "outputs": [
        {
          "output_type": "stream",
          "text": [
            "Welcome to calculator.py\n",
            "your options are:\n",
            " \n",
            "1) Addition\n",
            "2) Subtraction\n",
            "3) Multiplication\n",
            "4) Division\n",
            "5) Quit calculator.py\n",
            " \n",
            "Choose your option: 1\n",
            " \n",
            " \n",
            "Enter 1st no: 23\n",
            "Enter 2nd no: 24\n",
            "The answer is  47\n",
            "Welcome to calculator.py\n",
            "your options are:\n",
            " \n",
            "1) Addition\n",
            "2) Subtraction\n",
            "3) Multiplication\n",
            "4) Division\n",
            "5) Quit calculator.py\n",
            " \n",
            "Choose your option: 2\n",
            " \n",
            " \n",
            "Enter 1st no: 34\n",
            "Enter 2nd no: 32\n",
            "answer is  2\n",
            "Welcome to calculator.py\n",
            "your options are:\n",
            " \n",
            "1) Addition\n",
            "2) Subtraction\n",
            "3) Multiplication\n",
            "4) Division\n",
            "5) Quit calculator.py\n",
            " \n",
            "Choose your option: 3\n",
            " \n",
            " \n",
            "Enter 1st no: 3\n",
            "Enter 2nd no: 4\n",
            "answer is  12\n",
            "Welcome to calculator.py\n",
            "your options are:\n",
            " \n",
            "1) Addition\n",
            "2) Subtraction\n",
            "3) Multiplication\n",
            "4) Division\n",
            "5) Quit calculator.py\n",
            " \n",
            "Choose your option: 5\n",
            " \n",
            " \n",
            "Thank-you for using calculator.py!\n"
          ],
          "name": "stdout"
        }
      ]
    },
    {
      "cell_type": "markdown",
      "metadata": {
        "id": "5rrOMhN54A2g",
        "colab_type": "text"
      },
      "source": [
        "# **Do the following exercises using Google colab and  post them in your Github repository in the topic ‘Day 1 sesson 1 Exercises**"
      ]
    },
    {
      "cell_type": "markdown",
      "metadata": {
        "id": "WCAGgLZz4TZ6",
        "colab_type": "text"
      },
      "source": [
        "## 1)1.\tFind the compound interest for the given p,n,r  (formula : p(1+n*r/100)n )"
      ]
    },
    {
      "cell_type": "code",
      "metadata": {
        "id": "p-OY9vgHqC5s",
        "colab_type": "code",
        "colab": {
          "base_uri": "https://localhost:8080/",
          "height": 84
        },
        "outputId": "b00055ee-5f13-4c7f-cf4c-661b7bb74d14"
      },
      "source": [
        "#1.\tFind the compound interest for the given p,n,r  (formula : p(1+n*r/100)n )\n",
        "\n",
        "\n",
        "def compound_interest(principle, rate, time): \n",
        "  \n",
        "    # Calculates compound interest  \n",
        "    CI = principle * (pow((1 + rate / 100), time)) \n",
        "    print(\"Compound interest is\", CI) \n",
        "  \n",
        "# Driver Code  \n",
        "principle=int(input(\"enter the principle \"))\n",
        "rate=float(input(\"rate \"))\n",
        "time=int(input(\"time  \"))\n",
        "compound_interest(principle,rate,time) "
      ],
      "execution_count": null,
      "outputs": [
        {
          "output_type": "stream",
          "text": [
            "enter the principle 1000\n",
            " rate 2\n",
            "time1\n",
            "Compound interest is 1020.0\n"
          ],
          "name": "stdout"
        }
      ]
    },
    {
      "cell_type": "markdown",
      "metadata": {
        "id": "goDe27m54bBX",
        "colab_type": "text"
      },
      "source": [
        "# 2)\tConvert centegrade to farenheit  ( f= 9/5*c+32)"
      ]
    },
    {
      "cell_type": "code",
      "metadata": {
        "id": "tyGEQLS8dSim",
        "colab_type": "code",
        "colab": {
          "base_uri": "https://localhost:8080/",
          "height": 50
        },
        "outputId": "d0985b03-ff14-486c-eef3-cefd4450d509"
      },
      "source": [
        "celsius = float(input(\"Enter temperature in celsius: \"))\n",
        "fahrenheit = (celsius * 9/5) + 32\n",
        "print('%.2f Celsius is: %0.2f Fahrenheit' %(celsius, fahrenheit))\n",
        "\n",
        "\n"
      ],
      "execution_count": null,
      "outputs": [
        {
          "output_type": "stream",
          "text": [
            "Enter temperature in celsius: 24\n",
            "24.00 Celsius is: 75.20 Fahrenheit\n"
          ],
          "name": "stdout"
        }
      ]
    },
    {
      "cell_type": "markdown",
      "metadata": {
        "id": "i2LFN5S74ihw",
        "colab_type": "text"
      },
      "source": [
        "# 3)\tFind the greater of two nos "
      ]
    },
    {
      "cell_type": "code",
      "metadata": {
        "id": "B3MplMUTdXVm",
        "colab_type": "code",
        "colab": {
          "base_uri": "https://localhost:8080/",
          "height": 67
        },
        "outputId": "f7e10dbc-44e4-405d-b0a7-2737f0321e82"
      },
      "source": [
        "num1=int(input(\"enter the first number:\"))\n",
        "num2=int(input(\"enter the second number:\"))\n",
        "if num1>=num2:\n",
        "    large=num1\n",
        "else:\n",
        "    large=num2\n",
        "    print(\"the largest number is:\",large)"
      ],
      "execution_count": null,
      "outputs": [
        {
          "output_type": "stream",
          "text": [
            "enter the first number:25\n",
            "enter the second number:58\n",
            "the largest number is: 58\n"
          ],
          "name": "stdout"
        }
      ]
    },
    {
      "cell_type": "markdown",
      "metadata": {
        "id": "Cfr7FEGr9R5w",
        "colab_type": "text"
      },
      "source": [
        "# 4.\tWrite a program for finding surface areas of cylinder and cone (2*PI*r*r*h, 1/3*PI*r*r*h) using function."
      ]
    },
    {
      "cell_type": "code",
      "metadata": {
        "id": "uPrfTLMP9O13",
        "colab_type": "code",
        "colab": {
          "base_uri": "https://localhost:8080/",
          "height": 118
        },
        "outputId": "7dd33d17-ecd8-430c-d811-739f5fffc756"
      },
      "source": [
        "import math \n",
        "pi = math.pi \n",
        "\n",
        "def surfacearea(r, s): \n",
        "    return pi * r * s + pi * r * r \n",
        "\n",
        "def surfaceareacyl(radian,height):\n",
        "  return ((2*pi*radian) * height) + ((pi*radian**2)*2)\n",
        "\n",
        "radian = float(input(\"radius of cylinder:\"))\n",
        "height = float(input(\"height of cylinder :\")) \n",
        "print(\"Surface Area of cylinder: \", surfaceareacyl(radian,height))\n",
        "radius = float(input(\"radius of cone:\"))\n",
        "slat_height = float(input(\"slat_height of cone :\"))\n",
        "print( \"Surface Area Of Cone : \", surfacearea(radius, slat_height) ) \n"
      ],
      "execution_count": null,
      "outputs": [
        {
          "output_type": "stream",
          "text": [
            "radius of cylinder:4\n",
            "height of cylinder :6\n",
            "Surface Area of cylinder:  251.32741228718345\n",
            "radius of cone:4\n",
            "slat_height of cone :7\n",
            "Surface Area Of Cone :  138.23007675795088\n"
          ],
          "name": "stdout"
        }
      ]
    },
    {
      "cell_type": "markdown",
      "metadata": {
        "id": "xCUveUoTAaUG",
        "colab_type": "text"
      },
      "source": [
        "# 5.\tFind the greatest of four nos ( using ‘and’ operator)   using function."
      ]
    },
    {
      "cell_type": "code",
      "metadata": {
        "id": "39K9CsS1AQHA",
        "colab_type": "code",
        "colab": {
          "base_uri": "https://localhost:8080/",
          "height": 101
        },
        "outputId": "44b5df76-ccc3-4660-c4bd-403b0d82c70a"
      },
      "source": [
        "n1 = int(input(\"n1 :\"))\n",
        "n2 = int(input(\"n2 :\"))\n",
        "n3 = int(input(\"n3 :\"))\n",
        "n4 = int(input(\"n4 :\"))\n",
        "  \n",
        "mx = (n1 if (n1 > n2 and n1 > n2 and n1 > n4)  \n",
        "         else (n2 if (n2 > n3 and n3 > n4)  \n",
        "         else (n3 if n3 > n4 else n4))) \n",
        "  \n",
        "# str() function is used to convert  \n",
        "# integer to string, it is required  \n",
        "# as we are concatenating integers \n",
        "# with string \n",
        "print(\"Largest number is\",mx) \n",
        "  "
      ],
      "execution_count": null,
      "outputs": [
        {
          "output_type": "stream",
          "text": [
            "n1 :9\n",
            "n2 :5\n",
            "n3 :6\n",
            "n4 :7\n",
            "Largest number is 9\n"
          ],
          "name": "stdout"
        }
      ]
    },
    {
      "cell_type": "markdown",
      "metadata": {
        "id": "EJVPs7c92U_z",
        "colab_type": "text"
      },
      "source": [
        "## 6.\tWrite a  menu program to perform the operations ( ODDorEven, Factorial, ODDNoUptoN, PrimeUptoN ) using functions for two nos with  menu choice"
      ]
    },
    {
      "cell_type": "code",
      "metadata": {
        "id": "g0yEY29Z2Ck0",
        "colab_type": "code",
        "colab": {
          "base_uri": "https://localhost:8080/",
          "height": 991
        },
        "outputId": "26a3228d-9d23-43df-b584-bf2d7574cb76"
      },
      "source": [
        "x=1\n",
        "def OddorEven(n):\n",
        "  if(n%2 == 0):\n",
        "    print(\"The number is even\")\n",
        "  else:\n",
        "    print(\"The number is odd\")\n",
        "\n",
        "def Fact(n):\n",
        "  f=1\n",
        "  for i in range(0,n+1):\n",
        "    if(i!=0):\n",
        "     f=f*i\n",
        "  print(\"the factorial of {0} is {1}\".format(n,f))\n",
        "\n",
        "def OdduptoN(n):\n",
        "  for i in range(1,n+1,2):\n",
        "      print(i,end=\" \")\n",
        "  print(\"\")\n",
        "\n",
        "def Prime(n):\n",
        "  for i in range(0,n+1):\n",
        "   if i > 1:\n",
        "       for j in range(2, i):\n",
        "           if (i % j) == 0:\n",
        "               break\n",
        "       else:\n",
        "           print(i,end=\" \")\n",
        "  print(\" \")\n",
        "while x==1:\n",
        "  print (\"Otions :\")\n",
        "  print (\"\")\n",
        "  print(\"1) ODDorEven\")\n",
        "  print(\"2) Factorial\")\n",
        "  print(\"3) ODDNoUptoN\")\n",
        "  print(\"4) PrimeUptoN \")\n",
        "  print(\"5) Quit\")\n",
        "  print(\"\")\n",
        "  try:\n",
        "    choice = int(input(\"Choose your option: \"))\n",
        "  except:\n",
        "    print('please enter a valid number for option')\n",
        "  print(\" \")\n",
        "  if choice == 1:\n",
        "    n = int(input(\"Enter the number: \"))\n",
        "\n",
        "    OddorEven(n)\n",
        "  elif choice == 2:\n",
        "    n = int(input(\"Enter the number: \"))\n",
        "\n",
        "    Fact(n)\n",
        "  elif choice == 3:\n",
        "    n = int(input(\"Enter the number: \"))\n",
        "    OdduptoN(n)\n",
        "  elif choice == 4:\n",
        "    n = int(input(\"Enter the number: \"))\n",
        "    Prime(n)\n",
        "  elif choice == 5:\n",
        "    x=0\n",
        "  else:\n",
        "    print(\"please choice a valid option from 1 to 5\")"
      ],
      "execution_count": null,
      "outputs": [
        {
          "output_type": "stream",
          "text": [
            "Otions :\n",
            "\n",
            "1) ODDorEven\n",
            "2) Factorial\n",
            "3) ODDNoUptoN\n",
            "4) PrimeUptoN \n",
            "5) Quit\n",
            "\n",
            "Choose your option: 1\n",
            " \n",
            "Enter the number: 3\n",
            "The number is odd\n",
            "Otions :\n",
            "\n",
            "1) ODDorEven\n",
            "2) Factorial\n",
            "3) ODDNoUptoN\n",
            "4) PrimeUptoN \n",
            "5) Quit\n",
            "\n",
            "Choose your option: 2\n",
            " \n",
            "Enter the number: 4\n",
            "the factorial of 4 is 24\n",
            "Otions :\n",
            "\n",
            "1) ODDorEven\n",
            "2) Factorial\n",
            "3) ODDNoUptoN\n",
            "4) PrimeUptoN \n",
            "5) Quit\n",
            "\n",
            "Choose your option: 3\n",
            " \n",
            "Enter the number: 23\n",
            "1 3 5 7 9 11 13 15 17 19 21 23 \n",
            "Otions :\n",
            "\n",
            "1) ODDorEven\n",
            "2) Factorial\n",
            "3) ODDNoUptoN\n",
            "4) PrimeUptoN \n",
            "5) Quit\n",
            "\n",
            "Choose your option: 4\n",
            " \n",
            "Enter the number: 56\n",
            "2 3 5 7 11 13 17 19 23 29 31 37 41 43 47 53  \n",
            "Otions :\n",
            "\n",
            "1) ODDorEven\n",
            "2) Factorial\n",
            "3) ODDNoUptoN\n",
            "4) PrimeUptoN \n",
            "5) Quit\n",
            "\n",
            "Choose your option: 5\n",
            " \n"
          ],
          "name": "stdout"
        }
      ]
    },
    {
      "cell_type": "code",
      "metadata": {
        "id": "UOWJiFBF-NaE",
        "colab_type": "code",
        "colab": {}
      },
      "source": [
        ""
      ],
      "execution_count": null,
      "outputs": []
    }
  ]
}