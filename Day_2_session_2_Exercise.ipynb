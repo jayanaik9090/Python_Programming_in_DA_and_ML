{
  "nbformat": 4,
  "nbformat_minor": 0,
  "metadata": {
    "colab": {
      "name": "Day 2  session 2 Exercise.ipynb",
      "provenance": [],
      "collapsed_sections": []
    },
    "kernelspec": {
      "name": "python3",
      "display_name": "Python 3"
    }
  },
  "cells": [
    {
      "cell_type": "markdown",
      "metadata": {
        "id": "kEvKt6EmGrN-",
        "colab_type": "text"
      },
      "source": [
        "# 1.\tAdd rollno and marks {name:mark} for n number of students through keyboard in a dictionary and print the marks in descending order with respective name.\n"
      ]
    },
    {
      "cell_type": "code",
      "metadata": {
        "id": "MV3FfvLFGrff",
        "colab_type": "code",
        "colab": {}
      },
      "source": [
        "\n",
        "import operator\n",
        "d={}\n",
        "for i in range(int(input(\"Enter number of students: \"))):\n",
        "  str1=input(\"Enter name: \")\n",
        "  x=int(input(\"Enter marks: \"))\n",
        "  d[str1]=x\n",
        "sorted_d= sorted(d.items(), key=operator.itemgetter(1),reverse=True)\n",
        "print(sorted_d)"
      ],
      "execution_count": null,
      "outputs": []
    },
    {
      "cell_type": "markdown",
      "metadata": {
        "id": "QylRV9JnGrq2",
        "colab_type": "text"
      },
      "source": [
        "\n",
        "# 2.\tAdd  name and salary {name:salary} for n number of employees through keyboard in a dictionary and print them in name alphabetical order with salary"
      ]
    },
    {
      "cell_type": "code",
      "metadata": {
        "id": "2VlqFMAlGr4X",
        "colab_type": "code",
        "colab": {}
      },
      "source": [
        "import operator\n",
        "\n",
        "d={}\n",
        "for i in range(int(input(\"Enter number of employees: \"))):\n",
        "  str1=input(\"Enter name: \")\n",
        "  x=int(input(\"Enter salary: \"))\n",
        "  d[str1]=x\n",
        "sorted_a= sorted(d.items(), key=operator.itemgetter(0))\n",
        "print(sorted_a)"
      ],
      "execution_count": null,
      "outputs": []
    },
    {
      "cell_type": "markdown",
      "metadata": {
        "id": "CK-si_KMGsCf",
        "colab_type": "text"
      },
      "source": [
        "\n",
        "\n",
        "# 3.\tAdd  name and salary {name:salary} for n number of employees through keyboard in a dictionary and print them in salary  ascending order and sum, max, min and average of the salaries"
      ]
    },
    {
      "cell_type": "code",
      "metadata": {
        "id": "gvPL82KTGsOo",
        "colab_type": "code",
        "colab": {}
      },
      "source": [
        "import operator\n",
        "\n",
        "d={}\n",
        "for i in range(int(input(\"Enter number of employees: \"))):\n",
        "  str1=input(\"Enter name: \")\n",
        "  x=int(input(\"Enter salary: \"))\n",
        "  d[str1]=x\n",
        "sorted_a= sorted(d.items(), key=operator.itemgetter(1))\n",
        "print(sorted_a)\n",
        "print(\"Sum is\",sum(d.values()))\n",
        "print(\"Max is\",max(d.values()))\n",
        "print(\"Min is\",min(d.values()))\n",
        "print(\"Avg is\",sum(d.values())/len(d))\n"
      ],
      "execution_count": null,
      "outputs": []
    },
    {
      "cell_type": "markdown",
      "metadata": {
        "id": "HPkliPEqGsbH",
        "colab_type": "text"
      },
      "source": [
        "\n",
        "# 4.\tAdd name and salary {name:salary} for n number of employees through keyboard in a dictionary and print only the employees whose salary is greater than 2000 but less than 4000"
      ]
    },
    {
      "cell_type": "code",
      "metadata": {
        "id": "cG3KoGxZGsmP",
        "colab_type": "code",
        "colab": {}
      },
      "source": [
        "d={}\n",
        "for i in range(int(input(\"Enter number of employees: \"))):\n",
        "  str1=input(\"Enter name: \")\n",
        "  x=int(input(\"Enter salary: \"))\n",
        "  d[str1]=x\n",
        "s2 = {key:val for key, val in d.items() if val > 2000 and val < 4000}\n",
        "print(s2)"
      ],
      "execution_count": null,
      "outputs": []
    },
    {
      "cell_type": "markdown",
      "metadata": {
        "id": "vJJVvh8JGswX",
        "colab_type": "text"
      },
      "source": [
        "# 5.\tPython program to convert a 3 digit number  into words\n"
      ]
    },
    {
      "cell_type": "code",
      "metadata": {
        "id": "BlnLBNi1Gs9P",
        "colab_type": "code",
        "colab": {
          "base_uri": "https://localhost:8080/",
          "height": 51
        },
        "outputId": "c5dc7a4a-9025-4ab7-80c7-f1c083c1e467"
      },
      "source": [
        "def convert_to_words(num):  \n",
        "    l = len(num);    \n",
        "    if (l == 0): \n",
        "        print(\"empty string\"); \n",
        "        return; \n",
        "  \n",
        "    if (l > 4): \n",
        "        print(\"Length more than 4 is not supported\"); \n",
        "        return;   \n",
        "    single_digits = [\"zero\", \"one\", \"two\", \"three\",  \n",
        "                     \"four\", \"five\", \"six\", \"seven\",  \n",
        "                     \"eight\", \"nine\"];  \n",
        "    two_digits = [\"\", \"ten\", \"eleven\", \"twelve\",  \n",
        "                  \"thirteen\", \"fourteen\", \"fifteen\",  \n",
        "                  \"sixteen\", \"seventeen\", \"eighteen\", \n",
        "                  \"nineteen\"];  \n",
        "    tens_multiple = [\"\", \"\", \"twenty\", \"thirty\", \"forty\", \n",
        "                     \"fifty\", \"sixty\", \"seventy\", \"eighty\",  \n",
        "                     \"ninety\"]; \n",
        "    tens_power = [\"hundred\", \"thousand\"];   \n",
        "    print(num, \":\", end = \" \");   \n",
        "    if (l == 1):  \n",
        "        print(single_digits[ord(num[0]) - '0']); \n",
        "        return;  \n",
        "    x = 0; \n",
        "    while (x < len(num)):    \n",
        "        if (l >= 3): \n",
        "            if (ord(num[x]) - 48 != 0): \n",
        "                print(single_digits[ord(num[x]) - 48],  \n",
        "                                           end = \" \"); \n",
        "                print(tens_power[l - 3], end = \" \");  \n",
        "                  \n",
        "            l -= 1; \n",
        "        else:   \n",
        "            if (ord(num[x]) - 48 == 1):  \n",
        "                sum = (ord(num[x]) - 48 + \n",
        "                       ord(num[x]) - 48); \n",
        "                print(two_digits[sum]); \n",
        "                return;   \n",
        "            elif (ord(num[x]) - 48 == 2 and \n",
        "                  ord(num[x + 1]) - 48 == 0): \n",
        "                print(\"twenty\"); \n",
        "                return;  \n",
        "            else: \n",
        "                i = ord(num[x]) - 48; \n",
        "                if(i > 0): \n",
        "                    print(tens_multiple[i], end = \" \"); \n",
        "                else: \n",
        "                    print(\"\", end = \"\"); \n",
        "                x += 1; \n",
        "                if(ord(num[x]) - 48 != 0): \n",
        "                    print(single_digits[ord(num[x]) - 48]); \n",
        "        x += 1;  \n",
        "convert_to_words(\"890\"); \n",
        "convert_to_words(\"112\"); \n",
        "convert_to_words(\"236\");\n"
      ],
      "execution_count": null,
      "outputs": [
        {
          "output_type": "stream",
          "text": [
            "890 : eight hundred ninety 112 : one hundred eleven\n",
            "236 : two hundred thirty six\n"
          ],
          "name": "stdout"
        }
      ]
    },
    {
      "cell_type": "markdown",
      "metadata": {
        "id": "2XWh4HCOGtH3",
        "colab_type": "text"
      },
      "source": [
        "\n",
        "# Python Program to count the total number of charaters (except blank space) in a text file.\n",
        "\n"
      ]
    },
    {
      "cell_type": "code",
      "metadata": {
        "id": "--Gh-_0VGtTY",
        "colab_type": "code",
        "colab": {}
      },
      "source": [
        "fname = input(\"Enter file name: \")\n",
        "k = 0\n",
        "file = open(fname, \"r\")\n",
        "data = file.read().replace(\" \",\"\")\n",
        "k = len(data)\n",
        "print(\"Total number of characters are::\")\n",
        "print(k)"
      ],
      "execution_count": null,
      "outputs": []
    },
    {
      "cell_type": "markdown",
      "metadata": {
        "id": "oOyeLSM6Gtdy",
        "colab_type": "text"
      },
      "source": [
        "\n",
        "# Python Program to print all the numbers present in a text file with its total number of occurrence."
      ]
    },
    {
      "cell_type": "code",
      "metadata": {
        "id": "2NhL632eGtoq",
        "colab_type": "code",
        "colab": {}
      },
      "source": [
        "fname = input(\"Enter file name: \")\n",
        "d={x:0 for x in range(0,10)}\n",
        "with open(fname, 'r') as f:\n",
        "    for line in f:\n",
        "        words = line.split()\n",
        "        for i in words:\n",
        "            for letter in i:\n",
        "                if(letter.isdigit()):\n",
        "                    d[int(letter)]+=1\n",
        "d1 = {key:val for key, val in d.items() if val > 0}\n",
        "print(d1)"
      ],
      "execution_count": null,
      "outputs": []
    },
    {
      "cell_type": "markdown",
      "metadata": {
        "id": "pRnAvlLHGtz6",
        "colab_type": "text"
      },
      "source": [
        "# Python Program to append the contents of one file to another file by getting the both file names through keyboard . \n"
      ]
    },
    {
      "cell_type": "code",
      "metadata": {
        "id": "1mXN37ljGt95",
        "colab_type": "code",
        "colab": {}
      },
      "source": [
        "fname = input(\"Enter file name: \")\n",
        "d={x:0 for x in range(0,10)}\n",
        "with open(fname, 'r') as f:\n",
        "    for line in f:\n",
        "        words = line.split()\n",
        "        for i in words:\n",
        "            for letter in i:\n",
        "                if(letter.isdigit()):\n",
        "                    d[int(letter)]+=1\n",
        "d1 = {key:val for key, val in d.items() if val > 0}\n",
        "print(d1)"
      ],
      "execution_count": null,
      "outputs": []
    },
    {
      "cell_type": "markdown",
      "metadata": {
        "id": "4EwN6opwGuI6",
        "colab_type": "text"
      },
      "source": [
        "# Python Program to count the number of blank spaces in a text file. \n"
      ]
    },
    {
      "cell_type": "code",
      "metadata": {
        "id": "SL00-gZ5GuUh",
        "colab_type": "code",
        "colab": {}
      },
      "source": [
        "fname = input(\"Enter file name: \")\n",
        "k = 0\n",
        " \n",
        "with open(fname, 'r') as f:\n",
        "    for line in f:\n",
        "        words = line.split()\n",
        "        for i in words:\n",
        "            for letter in i:\n",
        "                if(letter.isspace):\n",
        "                    k=k+1\n",
        "print(\"Occurrences of blank spaces:\")\n",
        "print(k)"
      ],
      "execution_count": null,
      "outputs": []
    },
    {
      "cell_type": "markdown",
      "metadata": {
        "id": "gOSOK2HEGuey",
        "colab_type": "text"
      },
      "source": [
        "\n",
        "\n",
        "# Python Program to read a file and capitalize the first letter of every word in the file and copy the every word capitalized content  into another file and read it .\n"
      ]
    },
    {
      "cell_type": "code",
      "metadata": {
        "id": "gmIiik-fGuqU",
        "colab_type": "code",
        "colab": {}
      },
      "source": [
        "fname = input(\"Enter file name: \")\n",
        "fname1 = input(\"Enter another filename: \")\n",
        "with open(fname, 'r') as f:\n",
        "  with open(fname1, \"w\") as f1:\n",
        "    for line in f:\n",
        "        l=line.title()\n",
        "        f1.write(l)\n",
        "        print(l)"
      ],
      "execution_count": null,
      "outputs": []
    }
  ]
}