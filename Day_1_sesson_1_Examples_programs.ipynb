{
  "nbformat": 4,
  "nbformat_minor": 0,
  "metadata": {
    "colab": {
      "name": "Day 1 sesson 1 Examples programs.ipynb",
      "provenance": [],
      "collapsed_sections": []
    },
    "kernelspec": {
      "name": "python3",
      "display_name": "Python 3"
    }
  },
  "cells": [
    {
      "cell_type": "markdown",
      "metadata": {
        "id": "czFGo7_yp6fm",
        "colab_type": "text"
      },
      "source": [
        "\n",
        "#Python Program to Add Two Numbers getting through key board\n"
      ]
    },
    {
      "cell_type": "code",
      "metadata": {
        "id": "GPRVWE6Zp8qT",
        "colab_type": "code",
        "colab": {
          "base_uri": "https://localhost:8080/",
          "height": 68
        },
        "outputId": "c358e8bb-6e4a-49fd-d1fc-3f5a0ba3f15c"
      },
      "source": [
        "# sum of two nos\n",
        "num1 = int(input(\"Enter first no\"))\n",
        "num2 = int(input(\"Enter second no\"))\n",
        "\n",
        "# Adding the two numbers\n",
        "sum = num1 + num2\n",
        "\n",
        "# Display the sum\n",
        "print('The sum of {0} and {1} is {2}'.format(num1, num2, sum))\n",
        "\n"
      ],
      "execution_count": null,
      "outputs": [
        {
          "output_type": "stream",
          "text": [
            "Enter first no3\n",
            "Enter second no4\n",
            "The sum of 3 and 4 is 7\n"
          ],
          "name": "stdout"
        }
      ]
    },
    {
      "cell_type": "markdown",
      "metadata": {
        "id": "kDYqME7DqJz2",
        "colab_type": "text"
      },
      "source": [
        "#Python program to check if the input year is a leap year or not"
      ]
    },
    {
      "cell_type": "code",
      "metadata": {
        "id": "zLKyYmXQqgaO",
        "colab_type": "code",
        "colab": {
          "base_uri": "https://localhost:8080/",
          "height": 51
        },
        "outputId": "e6115e36-3197-4c74-f332-e6d26867c8b2"
      },
      "source": [
        "# To get year (integer input) from the user\n",
        "year = int(input(\"Enter a year: \"))\n",
        "\n",
        "if ((year % 4) == 0 and (year % 100)  != 0) or ((year % 400) == 0):\n",
        "  print(\"{0} is a leap year\".format(year))\n",
        "else:\n",
        "  print(\"{0} is not a leap year\".format(year))\n",
        "\n"
      ],
      "execution_count": null,
      "outputs": [
        {
          "output_type": "stream",
          "text": [
            "Enter a year: 2201\n",
            "2201 is not a leap year\n"
          ],
          "name": "stdout"
        }
      ]
    },
    {
      "cell_type": "markdown",
      "metadata": {
        "id": "eza7VU0hqzD8",
        "colab_type": "text"
      },
      "source": [
        "#Python Program to Generate a Random Number "
      ]
    },
    {
      "cell_type": "code",
      "metadata": {
        "id": "dFI0eKTSq4TC",
        "colab_type": "code",
        "colab": {
          "base_uri": "https://localhost:8080/",
          "height": 34
        },
        "outputId": "7e31fad4-9265-4db2-9850-f4843359cfd0"
      },
      "source": [
        "# Program to generate a random number between 0 and 9\n",
        "# import the random module\n",
        "import random as re\n",
        "print(re.randint(0,9))\n"
      ],
      "execution_count": null,
      "outputs": [
        {
          "output_type": "stream",
          "text": [
            "9\n"
          ],
          "name": "stdout"
        }
      ]
    },
    {
      "cell_type": "markdown",
      "metadata": {
        "id": "Af575Lwhq9F0",
        "colab_type": "text"
      },
      "source": [
        "#Python Program to Convert Kilometers to Miles "
      ]
    },
    {
      "cell_type": "code",
      "metadata": {
        "id": "-3QIyt2XrCZB",
        "colab_type": "code",
        "colab": {
          "base_uri": "https://localhost:8080/",
          "height": 51
        },
        "outputId": "e7f6955f-eb0a-4224-9a78-eba0ad4c0c97"
      },
      "source": [
        "# To take kilometers from the user, uncomment the code below\n",
        "kilometers = int(input(\"Enter value in kilometers\"))\n",
        "\n",
        "# conversion factor\n",
        "conv_fac = 0.621371\n",
        "\n",
        "# calculate miles\n",
        "miles = kilometers * conv_fac\n",
        "print('%0.3f kilometers is equal to %0.3f miles' %(kilometers,miles))\n"
      ],
      "execution_count": null,
      "outputs": [
        {
          "output_type": "stream",
          "text": [
            "Enter value in kilometers1\n",
            "1.000 kilometers is equal to 0.621 miles\n"
          ],
          "name": "stdout"
        }
      ]
    },
    {
      "cell_type": "markdown",
      "metadata": {
        "id": "yz4izSBFrH7i",
        "colab_type": "text"
      },
      "source": [
        "#Python Program to Solve Quadratic Equation "
      ]
    },
    {
      "cell_type": "code",
      "metadata": {
        "id": "wCZ6qRYyrMug",
        "colab_type": "code",
        "colab": {
          "base_uri": "https://localhost:8080/",
          "height": 85
        },
        "outputId": "4a25d879-842a-4543-f66d-6af201a64456"
      },
      "source": [
        "# Solve the quadratic equation ax**2 + bx + c = 0\n",
        "# importing  complex math module\n",
        "import cmath\n",
        "\n",
        "# To take coefficient input from the users\n",
        "a = float(input('Enter a: '))\n",
        "b = float(input('Enter b: '))\n",
        "c = float(input('Enter c: '))\n",
        "\n",
        "# calculate the discriminant\n",
        "d = (b**2) - (4*a*c)\n",
        "\n",
        "# find two solutions\n",
        "sol1 = (-b-cmath.sqrt(d))/(2*a)\n",
        "sol2 = (-b+cmath.sqrt(d))/(2*a)\n",
        "\n",
        "print('The solution are {0} and {1}'.format(sol1,sol2))\n"
      ],
      "execution_count": null,
      "outputs": [
        {
          "output_type": "stream",
          "text": [
            "Enter a: 1\n",
            "Enter b: 1\n",
            "Enter c: 1\n",
            "The solution are (-0.5-0.8660254037844386j) and (-0.5+0.8660254037844386j)\n"
          ],
          "name": "stdout"
        }
      ]
    },
    {
      "cell_type": "markdown",
      "metadata": {
        "id": "By1zAO6xrSBX",
        "colab_type": "text"
      },
      "source": [
        "#Python Program to find prime or not using function "
      ]
    },
    {
      "cell_type": "code",
      "metadata": {
        "id": "ykRQtIoxrXBR",
        "colab_type": "code",
        "colab": {
          "base_uri": "https://localhost:8080/",
          "height": 51
        },
        "outputId": "d336341c-32f7-48c8-96f6-e6246dd7496d"
      },
      "source": [
        "def test_prime(n):\n",
        "  if (n==1):\n",
        "    return False\n",
        "  elif (n==2):\n",
        "    return True;\n",
        "  else:\n",
        "    for x in range(2,n):\n",
        "      if (n % x==0):\n",
        "        return False\n",
        "    return True\n",
        "no=int(input(\"Enter the number\"))\n",
        "if (test_prime(no)) is True :\n",
        "  print(\" {0} is a prime no\".format(no))\n",
        "else:\n",
        "  print(\" {0} is not a prime no\".format(no))\n",
        "\n"
      ],
      "execution_count": null,
      "outputs": [
        {
          "output_type": "stream",
          "text": [
            "Enter the number3\n",
            " 3 is a prime no\n"
          ],
          "name": "stdout"
        }
      ]
    },
    {
      "cell_type": "markdown",
      "metadata": {
        "id": "lx1Tnh6ercyo",
        "colab_type": "text"
      },
      "source": [
        "#CODING"
      ]
    },
    {
      "cell_type": "code",
      "metadata": {
        "id": "8hu6Jw5LrhBx",
        "colab_type": "code",
        "colab": {
          "base_uri": "https://localhost:8080/",
          "height": 510
        },
        "outputId": "831937f6-06bd-405b-fa73-6fb52057ad28"
      },
      "source": [
        "\"\"\"Calculator program\"\"\"\n",
        "\n",
        "loop = 1 # 1 means loop; anything else means don't loop.\n",
        "choice = 0 # This variable holds the user's choice in the menu\n",
        "\n",
        "def add(a,b):\n",
        "  return a+b \n",
        "def sub(a,b):\n",
        "  return a-b\n",
        "def mul(a,b):\n",
        "  return a*b\n",
        "def div(a,b):\n",
        "  return a/b\n",
        "\n",
        "while loop == 1:\n",
        "  # Print what options you have\n",
        "  print (\"Welcome to calculator.py\")\n",
        "  print (\"your options are:\")\n",
        "  print (\"\")\n",
        "  print(\"1) Addition\")\n",
        "  print(\"2) Subtraction\")\n",
        "  print(\"3) Multiplication\")\n",
        "  print(\"4) Division\")\n",
        "  print(\"5) Quit calculator.py\")\n",
        "  print(\"\")\n",
        "  try:\n",
        "    choice = int(input(\"Choose your option: \"))\n",
        "  except:\n",
        "    print('please enter a valid number for option')\n",
        "    \n",
        "  print(\" \")\n",
        "  print(\" \")\n",
        "  if choice == 1:\n",
        "    x = int(input(\"Enter 1st no: \"))\n",
        "    y = int(input(\"Enter 2nd no: \"))\n",
        "    print(\"The answer is \",add(x,y))\n",
        "\n",
        "  elif choice == 2:\n",
        "    x = int(input(\"Enter 1st no: \"))\n",
        "    y = int(input(\"Enter 2nd no: \"))\n",
        "    print(\"answer is \",sub(x,y))\n",
        "\n",
        "  elif choice == 3:\n",
        "    x = int(input(\"Enter 1st no: \"))\n",
        "    y = int(input(\"Enter 2nd no: \"))\n",
        "    print(\"answer is \",mul(x,y))\n",
        "\n",
        "  elif choice == 4:\n",
        "    x = int(input(\"Enter 1st no: \"))\n",
        "    y = int(input(\"Enter 2nd no: \"))\n",
        "    print(\"answer is \",div(x,y))\n",
        "\n",
        "  elif choice == 5:\n",
        "    loop = 0\n",
        "\n",
        "  else:\n",
        "    print(\"please choice a valid option from 1 to 5\")\n",
        "  choice=0\n",
        "  print (\"Thank-you for using calculator.py!\")\n",
        "\n",
        "\n",
        "\n"
      ],
      "execution_count": null,
      "outputs": [
        {
          "output_type": "stream",
          "text": [
            "Welcome to calculator.py\n",
            "your options are:\n",
            "\n",
            "1) Addition\n",
            "2) Subtraction\n",
            "3) Multiplication\n",
            "4) Division\n",
            "5) Quit calculator.py\n",
            "\n",
            "Choose your option: 1\n",
            " \n",
            " \n",
            "Enter 1st no: 2\n",
            "Enter 2nd no: 3\n",
            "The answer is  5\n",
            "Thank-you for using calculator.py!\n",
            "Welcome to calculator.py\n",
            "your options are:\n",
            "\n",
            "1) Addition\n",
            "2) Subtraction\n",
            "3) Multiplication\n",
            "4) Division\n",
            "5) Quit calculator.py\n",
            "\n",
            "Choose your option: 5\n",
            " \n",
            " \n",
            "Thank-you for using calculator.py!\n"
          ],
          "name": "stdout"
        }
      ]
    }
  ]
}