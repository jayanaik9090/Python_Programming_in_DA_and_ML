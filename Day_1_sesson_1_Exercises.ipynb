{
  "nbformat": 4,
  "nbformat_minor": 0,
  "metadata": {
    "colab": {
      "name": "Day 1 sesson 1 Exercises.ipynb",
      "provenance": [],
      "collapsed_sections": []
    },
    "kernelspec": {
      "name": "python3",
      "display_name": "Python 3"
    }
  },
  "cells": [
    {
      "cell_type": "markdown",
      "metadata": {
        "id": "Ci-7w9Pj3mTv",
        "colab_type": "text"
      },
      "source": [
        "#1.\tFind the compound interest for the given p,n,r  (formula : p(1+n*r/100)n )"
      ]
    },
    {
      "cell_type": "code",
      "metadata": {
        "id": "W0SrSkaZ3rIn",
        "colab_type": "code",
        "colab": {
          "base_uri": "https://localhost:8080/",
          "height": 85
        },
        "outputId": "33a59ffb-39dc-44d2-aa9a-24ba336d0bbc"
      },
      "source": [
        "p = float(input(\"Enter the prinipal :\"))\n",
        "r = float(input(\"Enter the rate of intrest :\"))\n",
        "n = float(input(\"Enter the number of period :\"))\n",
        "ci = p * (pow((1 + r / 100), n))\n",
        "print(\"The compound intrest is {0}\".format(ci))"
      ],
      "execution_count": null,
      "outputs": [
        {
          "output_type": "stream",
          "text": [
            "Enter the prinipal :2\n",
            "Enter the rate of intrest :3\n",
            "Enter the number of period :4\n",
            "The compound intrest is 2.2510176200000003\n"
          ],
          "name": "stdout"
        }
      ]
    },
    {
      "cell_type": "markdown",
      "metadata": {
        "id": "s7VEAaB95WPS",
        "colab_type": "text"
      },
      "source": [
        "#2.\tConvert centigrade to farenheit  ( f= 9/5*c+32)"
      ]
    },
    {
      "cell_type": "code",
      "metadata": {
        "id": "aPH8P2I_5YDm",
        "colab_type": "code",
        "colab": {
          "base_uri": "https://localhost:8080/",
          "height": 51
        },
        "outputId": "6b3ef390-834e-4a69-dcf2-bd0b2b05617e"
      },
      "source": [
        "c = float(input(\"Enter the centigrade :\"))\n",
        "print(\"The centigrade {0} in farenhite is {1}\".format(c,9/5*c+32))\n"
      ],
      "execution_count": null,
      "outputs": [
        {
          "output_type": "stream",
          "text": [
            "Enter the centigrade :24\n",
            "The centigrade 24.0 in farenhite is 75.2\n"
          ],
          "name": "stdout"
        }
      ]
    },
    {
      "cell_type": "markdown",
      "metadata": {
        "id": "dSTh4yU557_y",
        "colab_type": "text"
      },
      "source": [
        "#3.\tFind the greater of two nos "
      ]
    },
    {
      "cell_type": "code",
      "metadata": {
        "id": "lwTah6lu6DAO",
        "colab_type": "code",
        "colab": {
          "base_uri": "https://localhost:8080/",
          "height": 68
        },
        "outputId": "6f4315e5-235a-47a7-9c7f-9bdd01154e9c"
      },
      "source": [
        "a = float(input(\"Enter the 1st Number :\"))\n",
        "b = float(input(\"Enter the 2nd Number :\"))\n",
        "if a > b :\n",
        "  print(\"The bigger number of {0} and {1} is {2}\".format(a,b,a))\n",
        "elif a == b :\n",
        "  print(\"The numbers {0} and {1} are equal\".format(a,b))\n",
        "else:\n",
        "  print(\"The bigger number of {0} and {1} is {2}\".format(a,b,b))\n"
      ],
      "execution_count": null,
      "outputs": [
        {
          "output_type": "stream",
          "text": [
            "Enter the 1st Number :2\n",
            "Enter the 2nd Number :2\n",
            "The numbers 2.0 and 2.0 are equal\n"
          ],
          "name": "stdout"
        }
      ]
    },
    {
      "cell_type": "markdown",
      "metadata": {
        "id": "z1p9T5Cc7BMq",
        "colab_type": "text"
      },
      "source": [
        "#4.\tWrite a program for finding surface areas of cylinder and cone (2* PI* r* r* h, 1/3* PI* r* r* h) using function."
      ]
    },
    {
      "cell_type": "code",
      "metadata": {
        "id": "WSzIkFUq7F4-",
        "colab_type": "code",
        "colab": {
          "base_uri": "https://localhost:8080/",
          "height": 85
        },
        "outputId": "800b687d-4601-4be2-b15a-6cf9040f8982"
      },
      "source": [
        "import cmath as cm\n",
        "\n",
        "def cylinder(r,h):\n",
        "  return ((2*cm.pi*r) * h) + ((cm.pi*r*2)*2)\n",
        "def cone(r,h):\n",
        "  return cm.pi * r * h + cm.pi * r * r \n",
        "\n",
        "r = float(input(\"Enter the radius :\"))\n",
        "h = float(input(\"Enter the height :\"))\n",
        "print(\"The surface area of cylinder with radius {0} and height {1} is {2}\".format(r,h,cylinder(r,h)))\n",
        "print(\"The surface area of cone with radius {0} and height {1} is {2}\".format(r,h,cone(r,h)))\n"
      ],
      "execution_count": null,
      "outputs": [
        {
          "output_type": "stream",
          "text": [
            "Enter the radius :4\n",
            "Enter the height :4\n",
            "The surface area of cylinder with radius 4.0 and height 4.0 is 150.79644737231007\n",
            "The surface area of cone with radius 4.0 and height 4.0 is 100.53096491487338\n"
          ],
          "name": "stdout"
        }
      ]
    },
    {
      "cell_type": "markdown",
      "metadata": {
        "id": "H9_LizRm9sqs",
        "colab_type": "text"
      },
      "source": [
        "#5.\tFind the greatest of four nos ( using ‘and’ operator)   using function."
      ]
    },
    {
      "cell_type": "code",
      "metadata": {
        "id": "skKttnmM97T5",
        "colab_type": "code",
        "colab": {
          "base_uri": "https://localhost:8080/",
          "height": 102
        },
        "outputId": "a20123d9-f0fc-4506-ae0c-2df5d0eada7a"
      },
      "source": [
        "def greatest(n1,n2,n3,n4):\n",
        " mx = (n1 if (n1 > n2 and n1 > n2 and n1 > n4)  \n",
        "         else (n2 \n",
        "              if (n2 > n3 and n3 > n4)  \n",
        "              else (n3 \n",
        "                    if n3 > n4 \n",
        "                    else n4))) \n",
        " return mx\n",
        "a = float(input(\"Enter the 1st Number :\"))\n",
        "b = float(input(\"Enter the 2nd Number :\"))\n",
        "c = float(input(\"Enter the 3rd Number :\"))\n",
        "d = float(input(\"Enter the 4th Number :\"))\n",
        "print(\"the greatest of the numbers is \",greatest(a,b,c,d))"
      ],
      "execution_count": null,
      "outputs": [
        {
          "output_type": "stream",
          "text": [
            "Enter the 1st Number :6\n",
            "Enter the 2nd Number :4\n",
            "Enter the 3rd Number :9\n",
            "Enter the 4th Number :8\n",
            "the greatest of the numbers is  9.0\n"
          ],
          "name": "stdout"
        }
      ]
    },
    {
      "cell_type": "markdown",
      "metadata": {
        "id": "Xpm1X7fgAeVn",
        "colab_type": "text"
      },
      "source": [
        "#6.\tWrite a  menu program to perform the operations ( ODDorEven, Factorial, ODDNoUptoN, PrimeUptoN ) using functions for two nos with  menu choice"
      ]
    },
    {
      "cell_type": "code",
      "metadata": {
        "id": "X47YWau6Ai50",
        "colab_type": "code",
        "colab": {
          "base_uri": "https://localhost:8080/",
          "height": 204
        },
        "outputId": "7ad6d151-4377-4806-9d3a-d0c4c3ada1c6"
      },
      "source": [
        "x=1\n",
        "def OddorEven(n):\n",
        "  if(n%2 == 0):\n",
        "    print(\"The number is even\")\n",
        "  else:\n",
        "    print(\"The number is odd\")\n",
        "\n",
        "def Fact(n):\n",
        "  f=1\n",
        "  for i in range(0,n+1):\n",
        "    if(i!=0):\n",
        "     f=f*i\n",
        "  print(\"the factorial of {0} is {1}\".format(n,f))\n",
        "\n",
        "def OdduptoN(n):\n",
        "  for i in range(1,n+1,2):\n",
        "      print(i,end=\" \")\n",
        "  print(\"\")\n",
        "\n",
        "def Prime(n):\n",
        "  for i in range(0,n+1):\n",
        "   if i > 1:\n",
        "       for j in range(2, i):\n",
        "           if (i % j) == 0:\n",
        "               break\n",
        "       else:\n",
        "           print(i,end=\" \")\n",
        "  print(\" \")\n",
        "while x==1:\n",
        "  print (\"Otions :\")\n",
        "  print (\"\")\n",
        "  print(\"1) ODDorEven\")\n",
        "  print(\"2) Factorial\")\n",
        "  print(\"3) ODDNoUptoN\")\n",
        "  print(\"4) PrimeUptoN \")\n",
        "  print(\"5) Quit\")\n",
        "  print(\"\")\n",
        "  try:\n",
        "    choice = int(input(\"Choose your option: \"))\n",
        "  except:\n",
        "    print('please enter a valid number for option')\n",
        "  print(\" \")\n",
        "  if choice == 1:\n",
        "    n = int(input(\"Enter the number: \"))\n",
        "\n",
        "    OddorEven(n)\n",
        "  elif choice == 2:\n",
        "    n = int(input(\"Enter the number: \"))\n",
        "\n",
        "    Fact(n)\n",
        "  elif choice == 3:\n",
        "    n = int(input(\"Enter the number: \"))\n",
        "    OdduptoN(n)\n",
        "  elif choice == 4:\n",
        "    n = int(input(\"Enter the number: \"))\n",
        "    Prime(n)\n",
        "  elif choice == 5:\n",
        "    x=0\n",
        "  else:\n",
        "    print(\"please choice a valid option from 1 to 5\")\n",
        " \n",
        "print(\"thank you\")"
      ],
      "execution_count": null,
      "outputs": [
        {
          "output_type": "stream",
          "text": [
            "Otions :\n",
            "\n",
            "1) ODDorEven\n",
            "2) Factorial\n",
            "3) ODDNoUptoN\n",
            "4) PrimeUptoN \n",
            "5) Quit\n",
            "\n",
            "Choose your option: 5\n",
            " \n",
            "thank you\n"
          ],
          "name": "stdout"
        }
      ]
    }
  ]
}